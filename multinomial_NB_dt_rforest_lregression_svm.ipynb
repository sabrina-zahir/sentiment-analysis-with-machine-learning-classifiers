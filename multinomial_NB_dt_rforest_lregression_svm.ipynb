{
  "nbformat": 4,
  "nbformat_minor": 0,
  "metadata": {
    "kernelspec": {
      "display_name": "Python 3",
      "language": "python",
      "name": "python3"
    },
    "language_info": {
      "codemirror_mode": {
        "name": "ipython",
        "version": 3
      },
      "file_extension": ".py",
      "mimetype": "text/x-python",
      "name": "python",
      "nbconvert_exporter": "python",
      "pygments_lexer": "ipython3",
      "version": "3.7.3"
    },
    "colab": {
      "name": "multinomial_NB_dt_rforest_lregression_svm.ipynb",
      "provenance": [],
      "collapsed_sections": []
    }
  },
  "cells": [
    {
      "cell_type": "code",
      "metadata": {
        "id": "5mmPU9g0MWNi"
      },
      "source": [
        "import numpy as np\n",
        "import pandas as pd\n",
        "import matplotlib.pyplot as plt\n",
        "import time"
      ],
      "execution_count": null,
      "outputs": []
    },
    {
      "cell_type": "markdown",
      "metadata": {
        "id": "zV13Gv3Z10JH"
      },
      "source": [
        "# DATASET :\n",
        "https://www.kaggle.com/kazanova/sentiment140"
      ]
    },
    {
      "cell_type": "code",
      "metadata": {
        "id": "7qApHFtsMWNj"
      },
      "source": [
        "dataset_encode = \"ISO-8859-1\"\n",
        "data = pd.read_csv(\"training.1600000.processed.noemoticon.csv\", encoding = dataset_encode)"
      ],
      "execution_count": null,
      "outputs": []
    },
    {
      "cell_type": "code",
      "metadata": {
        "id": "S4uYQny3MWNl",
        "outputId": "059f787b-2f66-44ad-9872-c4c7e822b25a"
      },
      "source": [
        "data.head()"
      ],
      "execution_count": null,
      "outputs": [
        {
          "data": {
            "text/html": [
              "<div>\n",
              "<style scoped>\n",
              "    .dataframe tbody tr th:only-of-type {\n",
              "        vertical-align: middle;\n",
              "    }\n",
              "\n",
              "    .dataframe tbody tr th {\n",
              "        vertical-align: top;\n",
              "    }\n",
              "\n",
              "    .dataframe thead th {\n",
              "        text-align: right;\n",
              "    }\n",
              "</style>\n",
              "<table border=\"1\" class=\"dataframe\">\n",
              "  <thead>\n",
              "    <tr style=\"text-align: right;\">\n",
              "      <th></th>\n",
              "      <th>0</th>\n",
              "      <th>1467810369</th>\n",
              "      <th>Mon Apr 06 22:19:45 PDT 2009</th>\n",
              "      <th>NO_QUERY</th>\n",
              "      <th>_TheSpecialOne_</th>\n",
              "      <th>@switchfoot http://twitpic.com/2y1zl - Awww, that's a bummer.  You shoulda got David Carr of Third Day to do it. ;D</th>\n",
              "    </tr>\n",
              "  </thead>\n",
              "  <tbody>\n",
              "    <tr>\n",
              "      <th>0</th>\n",
              "      <td>0</td>\n",
              "      <td>1467810672</td>\n",
              "      <td>Mon Apr 06 22:19:49 PDT 2009</td>\n",
              "      <td>NO_QUERY</td>\n",
              "      <td>scotthamilton</td>\n",
              "      <td>is upset that he can't update his Facebook by ...</td>\n",
              "    </tr>\n",
              "    <tr>\n",
              "      <th>1</th>\n",
              "      <td>0</td>\n",
              "      <td>1467810917</td>\n",
              "      <td>Mon Apr 06 22:19:53 PDT 2009</td>\n",
              "      <td>NO_QUERY</td>\n",
              "      <td>mattycus</td>\n",
              "      <td>@Kenichan I dived many times for the ball. Man...</td>\n",
              "    </tr>\n",
              "    <tr>\n",
              "      <th>2</th>\n",
              "      <td>0</td>\n",
              "      <td>1467811184</td>\n",
              "      <td>Mon Apr 06 22:19:57 PDT 2009</td>\n",
              "      <td>NO_QUERY</td>\n",
              "      <td>ElleCTF</td>\n",
              "      <td>my whole body feels itchy and like its on fire</td>\n",
              "    </tr>\n",
              "    <tr>\n",
              "      <th>3</th>\n",
              "      <td>0</td>\n",
              "      <td>1467811193</td>\n",
              "      <td>Mon Apr 06 22:19:57 PDT 2009</td>\n",
              "      <td>NO_QUERY</td>\n",
              "      <td>Karoli</td>\n",
              "      <td>@nationwideclass no, it's not behaving at all....</td>\n",
              "    </tr>\n",
              "    <tr>\n",
              "      <th>4</th>\n",
              "      <td>0</td>\n",
              "      <td>1467811372</td>\n",
              "      <td>Mon Apr 06 22:20:00 PDT 2009</td>\n",
              "      <td>NO_QUERY</td>\n",
              "      <td>joy_wolf</td>\n",
              "      <td>@Kwesidei not the whole crew</td>\n",
              "    </tr>\n",
              "  </tbody>\n",
              "</table>\n",
              "</div>"
            ],
            "text/plain": [
              "   0  1467810369  Mon Apr 06 22:19:45 PDT 2009  NO_QUERY _TheSpecialOne_  \\\n",
              "0  0  1467810672  Mon Apr 06 22:19:49 PDT 2009  NO_QUERY   scotthamilton   \n",
              "1  0  1467810917  Mon Apr 06 22:19:53 PDT 2009  NO_QUERY        mattycus   \n",
              "2  0  1467811184  Mon Apr 06 22:19:57 PDT 2009  NO_QUERY         ElleCTF   \n",
              "3  0  1467811193  Mon Apr 06 22:19:57 PDT 2009  NO_QUERY          Karoli   \n",
              "4  0  1467811372  Mon Apr 06 22:20:00 PDT 2009  NO_QUERY        joy_wolf   \n",
              "\n",
              "  @switchfoot http://twitpic.com/2y1zl - Awww, that's a bummer.  You shoulda got David Carr of Third Day to do it. ;D  \n",
              "0  is upset that he can't update his Facebook by ...                                                                   \n",
              "1  @Kenichan I dived many times for the ball. Man...                                                                   \n",
              "2    my whole body feels itchy and like its on fire                                                                    \n",
              "3  @nationwideclass no, it's not behaving at all....                                                                   \n",
              "4                      @Kwesidei not the whole crew                                                                    "
            ]
          },
          "execution_count": 3,
          "metadata": {},
          "output_type": "execute_result"
        }
      ]
    },
    {
      "cell_type": "code",
      "metadata": {
        "id": "Wa-GwcsrMWNm",
        "outputId": "4176e096-9993-4e21-8cf7-ce7e39f693b3"
      },
      "source": [
        "data.columns"
      ],
      "execution_count": null,
      "outputs": [
        {
          "data": {
            "text/plain": [
              "Index(['0', '1467810369', 'Mon Apr 06 22:19:45 PDT 2009', 'NO_QUERY',\n",
              "       '_TheSpecialOne_',\n",
              "       '@switchfoot http://twitpic.com/2y1zl - Awww, that's a bummer.  You shoulda got David Carr of Third Day to do it. ;D'],\n",
              "      dtype='object')"
            ]
          },
          "execution_count": 4,
          "metadata": {},
          "output_type": "execute_result"
        }
      ]
    },
    {
      "cell_type": "code",
      "metadata": {
        "id": "nOoHa8UQMWNm"
      },
      "source": [
        "data = data.drop(['1467810369', 'Mon Apr 06 22:19:45 PDT 2009', 'NO_QUERY', '_TheSpecialOne_'],axis=1)"
      ],
      "execution_count": null,
      "outputs": []
    },
    {
      "cell_type": "code",
      "metadata": {
        "id": "m63DhsvSMWNn",
        "outputId": "e8560096-0041-43c5-be65-e93736cf4adb"
      },
      "source": [
        "data.head()"
      ],
      "execution_count": null,
      "outputs": [
        {
          "data": {
            "text/html": [
              "<div>\n",
              "<style scoped>\n",
              "    .dataframe tbody tr th:only-of-type {\n",
              "        vertical-align: middle;\n",
              "    }\n",
              "\n",
              "    .dataframe tbody tr th {\n",
              "        vertical-align: top;\n",
              "    }\n",
              "\n",
              "    .dataframe thead th {\n",
              "        text-align: right;\n",
              "    }\n",
              "</style>\n",
              "<table border=\"1\" class=\"dataframe\">\n",
              "  <thead>\n",
              "    <tr style=\"text-align: right;\">\n",
              "      <th></th>\n",
              "      <th>0</th>\n",
              "      <th>@switchfoot http://twitpic.com/2y1zl - Awww, that's a bummer.  You shoulda got David Carr of Third Day to do it. ;D</th>\n",
              "    </tr>\n",
              "  </thead>\n",
              "  <tbody>\n",
              "    <tr>\n",
              "      <th>0</th>\n",
              "      <td>0</td>\n",
              "      <td>is upset that he can't update his Facebook by ...</td>\n",
              "    </tr>\n",
              "    <tr>\n",
              "      <th>1</th>\n",
              "      <td>0</td>\n",
              "      <td>@Kenichan I dived many times for the ball. Man...</td>\n",
              "    </tr>\n",
              "    <tr>\n",
              "      <th>2</th>\n",
              "      <td>0</td>\n",
              "      <td>my whole body feels itchy and like its on fire</td>\n",
              "    </tr>\n",
              "    <tr>\n",
              "      <th>3</th>\n",
              "      <td>0</td>\n",
              "      <td>@nationwideclass no, it's not behaving at all....</td>\n",
              "    </tr>\n",
              "    <tr>\n",
              "      <th>4</th>\n",
              "      <td>0</td>\n",
              "      <td>@Kwesidei not the whole crew</td>\n",
              "    </tr>\n",
              "  </tbody>\n",
              "</table>\n",
              "</div>"
            ],
            "text/plain": [
              "   0  \\\n",
              "0  0   \n",
              "1  0   \n",
              "2  0   \n",
              "3  0   \n",
              "4  0   \n",
              "\n",
              "  @switchfoot http://twitpic.com/2y1zl - Awww, that's a bummer.  You shoulda got David Carr of Third Day to do it. ;D  \n",
              "0  is upset that he can't update his Facebook by ...                                                                   \n",
              "1  @Kenichan I dived many times for the ball. Man...                                                                   \n",
              "2    my whole body feels itchy and like its on fire                                                                    \n",
              "3  @nationwideclass no, it's not behaving at all....                                                                   \n",
              "4                      @Kwesidei not the whole crew                                                                    "
            ]
          },
          "execution_count": 6,
          "metadata": {},
          "output_type": "execute_result"
        }
      ]
    },
    {
      "cell_type": "code",
      "metadata": {
        "id": "JwFcaTySMWNn"
      },
      "source": [
        "data = data.rename(columns={'0':'Sentiment', \n",
        "                            \"@switchfoot http://twitpic.com/2y1zl - Awww, that's a bummer.  You shoulda got David Carr of Third Day to do it. ;D\":'Text'})"
      ],
      "execution_count": null,
      "outputs": []
    },
    {
      "cell_type": "code",
      "metadata": {
        "id": "71xH_NIDMWNo",
        "outputId": "54fcec76-3b58-4f35-fde7-f08ade0ec83c"
      },
      "source": [
        "data.head()"
      ],
      "execution_count": null,
      "outputs": [
        {
          "data": {
            "text/html": [
              "<div>\n",
              "<style scoped>\n",
              "    .dataframe tbody tr th:only-of-type {\n",
              "        vertical-align: middle;\n",
              "    }\n",
              "\n",
              "    .dataframe tbody tr th {\n",
              "        vertical-align: top;\n",
              "    }\n",
              "\n",
              "    .dataframe thead th {\n",
              "        text-align: right;\n",
              "    }\n",
              "</style>\n",
              "<table border=\"1\" class=\"dataframe\">\n",
              "  <thead>\n",
              "    <tr style=\"text-align: right;\">\n",
              "      <th></th>\n",
              "      <th>Sentiment</th>\n",
              "      <th>Text</th>\n",
              "    </tr>\n",
              "  </thead>\n",
              "  <tbody>\n",
              "    <tr>\n",
              "      <th>0</th>\n",
              "      <td>0</td>\n",
              "      <td>is upset that he can't update his Facebook by ...</td>\n",
              "    </tr>\n",
              "    <tr>\n",
              "      <th>1</th>\n",
              "      <td>0</td>\n",
              "      <td>@Kenichan I dived many times for the ball. Man...</td>\n",
              "    </tr>\n",
              "    <tr>\n",
              "      <th>2</th>\n",
              "      <td>0</td>\n",
              "      <td>my whole body feels itchy and like its on fire</td>\n",
              "    </tr>\n",
              "    <tr>\n",
              "      <th>3</th>\n",
              "      <td>0</td>\n",
              "      <td>@nationwideclass no, it's not behaving at all....</td>\n",
              "    </tr>\n",
              "    <tr>\n",
              "      <th>4</th>\n",
              "      <td>0</td>\n",
              "      <td>@Kwesidei not the whole crew</td>\n",
              "    </tr>\n",
              "  </tbody>\n",
              "</table>\n",
              "</div>"
            ],
            "text/plain": [
              "   Sentiment                                               Text\n",
              "0          0  is upset that he can't update his Facebook by ...\n",
              "1          0  @Kenichan I dived many times for the ball. Man...\n",
              "2          0    my whole body feels itchy and like its on fire \n",
              "3          0  @nationwideclass no, it's not behaving at all....\n",
              "4          0                      @Kwesidei not the whole crew "
            ]
          },
          "execution_count": 8,
          "metadata": {},
          "output_type": "execute_result"
        }
      ]
    },
    {
      "cell_type": "code",
      "metadata": {
        "id": "MVWXPOxrMWNo"
      },
      "source": [
        "data['Sentiment'] = data['Sentiment'].replace(4,1)"
      ],
      "execution_count": null,
      "outputs": []
    },
    {
      "cell_type": "code",
      "metadata": {
        "id": "dmwqZennMWNp",
        "outputId": "4838cb58-605a-4d52-cbc2-f194da076c47"
      },
      "source": [
        "data.head()"
      ],
      "execution_count": null,
      "outputs": [
        {
          "data": {
            "text/html": [
              "<div>\n",
              "<style scoped>\n",
              "    .dataframe tbody tr th:only-of-type {\n",
              "        vertical-align: middle;\n",
              "    }\n",
              "\n",
              "    .dataframe tbody tr th {\n",
              "        vertical-align: top;\n",
              "    }\n",
              "\n",
              "    .dataframe thead th {\n",
              "        text-align: right;\n",
              "    }\n",
              "</style>\n",
              "<table border=\"1\" class=\"dataframe\">\n",
              "  <thead>\n",
              "    <tr style=\"text-align: right;\">\n",
              "      <th></th>\n",
              "      <th>Sentiment</th>\n",
              "      <th>Text</th>\n",
              "    </tr>\n",
              "  </thead>\n",
              "  <tbody>\n",
              "    <tr>\n",
              "      <th>0</th>\n",
              "      <td>0</td>\n",
              "      <td>is upset that he can't update his Facebook by ...</td>\n",
              "    </tr>\n",
              "    <tr>\n",
              "      <th>1</th>\n",
              "      <td>0</td>\n",
              "      <td>@Kenichan I dived many times for the ball. Man...</td>\n",
              "    </tr>\n",
              "    <tr>\n",
              "      <th>2</th>\n",
              "      <td>0</td>\n",
              "      <td>my whole body feels itchy and like its on fire</td>\n",
              "    </tr>\n",
              "    <tr>\n",
              "      <th>3</th>\n",
              "      <td>0</td>\n",
              "      <td>@nationwideclass no, it's not behaving at all....</td>\n",
              "    </tr>\n",
              "    <tr>\n",
              "      <th>4</th>\n",
              "      <td>0</td>\n",
              "      <td>@Kwesidei not the whole crew</td>\n",
              "    </tr>\n",
              "  </tbody>\n",
              "</table>\n",
              "</div>"
            ],
            "text/plain": [
              "   Sentiment                                               Text\n",
              "0          0  is upset that he can't update his Facebook by ...\n",
              "1          0  @Kenichan I dived many times for the ball. Man...\n",
              "2          0    my whole body feels itchy and like its on fire \n",
              "3          0  @nationwideclass no, it's not behaving at all....\n",
              "4          0                      @Kwesidei not the whole crew "
            ]
          },
          "execution_count": 10,
          "metadata": {},
          "output_type": "execute_result"
        }
      ]
    },
    {
      "cell_type": "code",
      "metadata": {
        "id": "B1JCqIlGMWNq"
      },
      "source": [
        "def clean_text(text):\n",
        "    #First, let's make the text lowercase.\n",
        "    text = text.lower()\n",
        "    \n",
        "    #Next, let's remove exclamation marks.\n",
        "    text_list = text.split('!') #This returns a list of items, split by !.\n",
        "    text = ''.join(text_list) #This puts the list back into a string. The exclamation marks are gone.\n",
        "    \n",
        "    #Same drill, but with other types of punctuation.\n",
        "    #For each punctuation mark in this list...\n",
        "    for punctuation in ['.','?',':','@','#','$','%','^','&','*','(',')','\"',\"'\",\",\",\";\",'[',']']:\n",
        "        #Split the text by that punctuation mark\n",
        "        text_list = text.split(punctuation)\n",
        "        #And rejoin it!\n",
        "        text = ''.join(text_list)\n",
        "    \n",
        "    return text"
      ],
      "execution_count": null,
      "outputs": []
    },
    {
      "cell_type": "code",
      "metadata": {
        "id": "XaI5_CD_MWNq",
        "outputId": "7308264c-e74a-4ba2-f0fe-7ddd21854d68"
      },
      "source": [
        "clean_text('! jijd.? SOIDJOIS.SJOIJ(^*(SJIJj.s!!io))')"
      ],
      "execution_count": null,
      "outputs": [
        {
          "data": {
            "text/plain": [
              "' jijd soidjoissjoijsjijjsio'"
            ]
          },
          "execution_count": 12,
          "metadata": {},
          "output_type": "execute_result"
        }
      ]
    },
    {
      "cell_type": "code",
      "metadata": {
        "id": "Fl_uGf2xMWNr",
        "outputId": "bc4c7a89-3396-4e65-df57-77567c8746cf"
      },
      "source": [
        "data = data[ data['Text'].apply(len) < 25 ]\n",
        "data"
      ],
      "execution_count": null,
      "outputs": [
        {
          "data": {
            "text/html": [
              "<div>\n",
              "<style scoped>\n",
              "    .dataframe tbody tr th:only-of-type {\n",
              "        vertical-align: middle;\n",
              "    }\n",
              "\n",
              "    .dataframe tbody tr th {\n",
              "        vertical-align: top;\n",
              "    }\n",
              "\n",
              "    .dataframe thead th {\n",
              "        text-align: right;\n",
              "    }\n",
              "</style>\n",
              "<table border=\"1\" class=\"dataframe\">\n",
              "  <thead>\n",
              "    <tr style=\"text-align: right;\">\n",
              "      <th></th>\n",
              "      <th>Sentiment</th>\n",
              "      <th>Text</th>\n",
              "    </tr>\n",
              "  </thead>\n",
              "  <tbody>\n",
              "    <tr>\n",
              "      <th>5</th>\n",
              "      <td>0</td>\n",
              "      <td>Need a hug</td>\n",
              "    </tr>\n",
              "    <tr>\n",
              "      <th>16</th>\n",
              "      <td>0</td>\n",
              "      <td>about to file taxes</td>\n",
              "    </tr>\n",
              "    <tr>\n",
              "      <th>26</th>\n",
              "      <td>0</td>\n",
              "      <td>im sad now  Miss.Lilly</td>\n",
              "    </tr>\n",
              "    <tr>\n",
              "      <th>53</th>\n",
              "      <td>0</td>\n",
              "      <td>I need a hug</td>\n",
              "    </tr>\n",
              "    <tr>\n",
              "      <th>76</th>\n",
              "      <td>0</td>\n",
              "      <td>No new csi tonight.  FML</td>\n",
              "    </tr>\n",
              "    <tr>\n",
              "      <th>81</th>\n",
              "      <td>0</td>\n",
              "      <td>missin' the boo</td>\n",
              "    </tr>\n",
              "    <tr>\n",
              "      <th>127</th>\n",
              "      <td>0</td>\n",
              "      <td>I'm so cold</td>\n",
              "    </tr>\n",
              "    <tr>\n",
              "      <th>132</th>\n",
              "      <td>0</td>\n",
              "      <td>almost bedtime</td>\n",
              "    </tr>\n",
              "    <tr>\n",
              "      <th>134</th>\n",
              "      <td>0</td>\n",
              "      <td>Agh...snow!!!</td>\n",
              "    </tr>\n",
              "    <tr>\n",
              "      <th>135</th>\n",
              "      <td>0</td>\n",
              "      <td>i miss kenny powers</td>\n",
              "    </tr>\n",
              "    <tr>\n",
              "      <th>139</th>\n",
              "      <td>0</td>\n",
              "      <td>sadly is going to bed.</td>\n",
              "    </tr>\n",
              "    <tr>\n",
              "      <th>145</th>\n",
              "      <td>0</td>\n",
              "      <td>my nokia 1110 died..</td>\n",
              "    </tr>\n",
              "    <tr>\n",
              "      <th>154</th>\n",
              "      <td>0</td>\n",
              "      <td>Man Work is Hard</td>\n",
              "    </tr>\n",
              "    <tr>\n",
              "      <th>161</th>\n",
              "      <td>0</td>\n",
              "      <td>I feel bad for doing it</td>\n",
              "    </tr>\n",
              "    <tr>\n",
              "      <th>170</th>\n",
              "      <td>0</td>\n",
              "      <td>currently at work..</td>\n",
              "    </tr>\n",
              "    <tr>\n",
              "      <th>181</th>\n",
              "      <td>0</td>\n",
              "      <td>Borders closed at 10</td>\n",
              "    </tr>\n",
              "    <tr>\n",
              "      <th>190</th>\n",
              "      <td>0</td>\n",
              "      <td>@HillyDoP  oH NO</td>\n",
              "    </tr>\n",
              "    <tr>\n",
              "      <th>195</th>\n",
              "      <td>0</td>\n",
              "      <td>wanttss to go out</td>\n",
              "    </tr>\n",
              "    <tr>\n",
              "      <th>207</th>\n",
              "      <td>0</td>\n",
              "      <td>@mandayyy</td>\n",
              "    </tr>\n",
              "    <tr>\n",
              "      <th>248</th>\n",
              "      <td>0</td>\n",
              "      <td>@mandayyy</td>\n",
              "    </tr>\n",
              "    <tr>\n",
              "      <th>249</th>\n",
              "      <td>0</td>\n",
              "      <td>New video card is DOA.</td>\n",
              "    </tr>\n",
              "    <tr>\n",
              "      <th>281</th>\n",
              "      <td>0</td>\n",
              "      <td>@ITS_NEMESIS -------</td>\n",
              "    </tr>\n",
              "    <tr>\n",
              "      <th>308</th>\n",
              "      <td>0</td>\n",
              "      <td>ChiefDelphi is down</td>\n",
              "    </tr>\n",
              "    <tr>\n",
              "      <th>356</th>\n",
              "      <td>0</td>\n",
              "      <td>homework....</td>\n",
              "    </tr>\n",
              "    <tr>\n",
              "      <th>363</th>\n",
              "      <td>0</td>\n",
              "      <td>feeling down</td>\n",
              "    </tr>\n",
              "    <tr>\n",
              "      <th>397</th>\n",
              "      <td>0</td>\n",
              "      <td>@danadearmond</td>\n",
              "    </tr>\n",
              "    <tr>\n",
              "      <th>404</th>\n",
              "      <td>0</td>\n",
              "      <td>buttload of homework!</td>\n",
              "    </tr>\n",
              "    <tr>\n",
              "      <th>429</th>\n",
              "      <td>0</td>\n",
              "      <td>@anistorm</td>\n",
              "    </tr>\n",
              "    <tr>\n",
              "      <th>451</th>\n",
              "      <td>0</td>\n",
              "      <td>my throat is raw.</td>\n",
              "    </tr>\n",
              "    <tr>\n",
              "      <th>458</th>\n",
              "      <td>0</td>\n",
              "      <td>omg..its jst teusday</td>\n",
              "    </tr>\n",
              "    <tr>\n",
              "      <th>...</th>\n",
              "      <td>...</td>\n",
              "      <td>...</td>\n",
              "    </tr>\n",
              "    <tr>\n",
              "      <th>1599559</th>\n",
              "      <td>1</td>\n",
              "      <td>@yourteube  bah de rien</td>\n",
              "    </tr>\n",
              "    <tr>\n",
              "      <th>1599568</th>\n",
              "      <td>1</td>\n",
              "      <td>@aniszlee thanks</td>\n",
              "    </tr>\n",
              "    <tr>\n",
              "      <th>1599588</th>\n",
              "      <td>1</td>\n",
              "      <td>@MikeRuocco good luck</td>\n",
              "    </tr>\n",
              "    <tr>\n",
              "      <th>1599631</th>\n",
              "      <td>1</td>\n",
              "      <td>103 Followers!!</td>\n",
              "    </tr>\n",
              "    <tr>\n",
              "      <th>1599632</th>\n",
              "      <td>1</td>\n",
              "      <td>your right...</td>\n",
              "    </tr>\n",
              "    <tr>\n",
              "      <th>1599659</th>\n",
              "      <td>1</td>\n",
              "      <td>rain is good</td>\n",
              "    </tr>\n",
              "    <tr>\n",
              "      <th>1599677</th>\n",
              "      <td>1</td>\n",
              "      <td>goodmorning</td>\n",
              "    </tr>\n",
              "    <tr>\n",
              "      <th>1599678</th>\n",
              "      <td>1</td>\n",
              "      <td>@jasontancy thanks!</td>\n",
              "    </tr>\n",
              "    <tr>\n",
              "      <th>1599680</th>\n",
              "      <td>1</td>\n",
              "      <td>@DowneyChick me either</td>\n",
              "    </tr>\n",
              "    <tr>\n",
              "      <th>1599700</th>\n",
              "      <td>1</td>\n",
              "      <td>Treating my body</td>\n",
              "    </tr>\n",
              "    <tr>\n",
              "      <th>1599706</th>\n",
              "      <td>1</td>\n",
              "      <td>@tweetbomb Yes please</td>\n",
              "    </tr>\n",
              "    <tr>\n",
              "      <th>1599707</th>\n",
              "      <td>1</td>\n",
              "      <td>Day off...good stuff</td>\n",
              "    </tr>\n",
              "    <tr>\n",
              "      <th>1599709</th>\n",
              "      <td>1</td>\n",
              "      <td>B: Going home.</td>\n",
              "    </tr>\n",
              "    <tr>\n",
              "      <th>1599717</th>\n",
              "      <td>1</td>\n",
              "      <td>@tiffany_boze  love you!</td>\n",
              "    </tr>\n",
              "    <tr>\n",
              "      <th>1599767</th>\n",
              "      <td>1</td>\n",
              "      <td>Good morning everyone.</td>\n",
              "    </tr>\n",
              "    <tr>\n",
              "      <th>1599771</th>\n",
              "      <td>1</td>\n",
              "      <td>@MeguMiya Thank you</td>\n",
              "    </tr>\n",
              "    <tr>\n",
              "      <th>1599772</th>\n",
              "      <td>1</td>\n",
              "      <td>@ijustine hey</td>\n",
              "    </tr>\n",
              "    <tr>\n",
              "      <th>1599776</th>\n",
              "      <td>1</td>\n",
              "      <td>so fun catching up...</td>\n",
              "    </tr>\n",
              "    <tr>\n",
              "      <th>1599810</th>\n",
              "      <td>1</td>\n",
              "      <td>to be with you</td>\n",
              "    </tr>\n",
              "    <tr>\n",
              "      <th>1599863</th>\n",
              "      <td>1</td>\n",
              "      <td>Going to tampa saturday</td>\n",
              "    </tr>\n",
              "    <tr>\n",
              "      <th>1599906</th>\n",
              "      <td>1</td>\n",
              "      <td>@gabespears morning</td>\n",
              "    </tr>\n",
              "    <tr>\n",
              "      <th>1599909</th>\n",
              "      <td>1</td>\n",
              "      <td>is excited for the day</td>\n",
              "    </tr>\n",
              "    <tr>\n",
              "      <th>1599913</th>\n",
              "      <td>1</td>\n",
              "      <td>@PJA4ever Back..</td>\n",
              "    </tr>\n",
              "    <tr>\n",
              "      <th>1599929</th>\n",
              "      <td>1</td>\n",
              "      <td>@AndrewDearling *yawns*</td>\n",
              "    </tr>\n",
              "    <tr>\n",
              "      <th>1599944</th>\n",
              "      <td>1</td>\n",
              "      <td>oh yes, and btw, 8.00</td>\n",
              "    </tr>\n",
              "    <tr>\n",
              "      <th>1599962</th>\n",
              "      <td>1</td>\n",
              "      <td>@OHTristaN it's sunoudy</td>\n",
              "    </tr>\n",
              "    <tr>\n",
              "      <th>1599966</th>\n",
              "      <td>1</td>\n",
              "      <td>checking my mail</td>\n",
              "    </tr>\n",
              "    <tr>\n",
              "      <th>1599978</th>\n",
              "      <td>1</td>\n",
              "      <td>In the garden</td>\n",
              "    </tr>\n",
              "    <tr>\n",
              "      <th>1599989</th>\n",
              "      <td>1</td>\n",
              "      <td>WOOOOO! Xbox is back</td>\n",
              "    </tr>\n",
              "    <tr>\n",
              "      <th>1599992</th>\n",
              "      <td>1</td>\n",
              "      <td>@SCOOBY_GRITBOYS</td>\n",
              "    </tr>\n",
              "  </tbody>\n",
              "</table>\n",
              "<p>111025 rows × 2 columns</p>\n",
              "</div>"
            ],
            "text/plain": [
              "         Sentiment                      Text\n",
              "5                0               Need a hug \n",
              "16               0      about to file taxes \n",
              "26               0    im sad now  Miss.Lilly\n",
              "53               0             I need a hug \n",
              "76               0  No new csi tonight.  FML\n",
              "81               0          missin' the boo \n",
              "127              0              I'm so cold \n",
              "132              0           almost bedtime \n",
              "134              0            Agh...snow!!! \n",
              "135              0      i miss kenny powers \n",
              "139              0   sadly is going to bed. \n",
              "145              0    my nokia 1110 died..  \n",
              "154              0         Man Work is Hard \n",
              "161              0  I feel bad for doing it \n",
              "170              0      currently at work.. \n",
              "181              0     Borders closed at 10 \n",
              "190              0          @HillyDoP  oH NO\n",
              "195              0        wanttss to go out \n",
              "207              0                @mandayyy \n",
              "248              0              @mandayyy   \n",
              "249              0   New video card is DOA. \n",
              "281              0     @ITS_NEMESIS ------- \n",
              "308              0      ChiefDelphi is down \n",
              "356              0             homework.... \n",
              "363              0             feeling down \n",
              "397              0            @danadearmond \n",
              "404              0    buttload of homework! \n",
              "429              0                @anistorm \n",
              "451              0        my throat is raw. \n",
              "458              0     omg..its jst teusday \n",
              "...            ...                       ...\n",
              "1599559          1  @yourteube  bah de rien \n",
              "1599568          1         @aniszlee thanks \n",
              "1599588          1    @MikeRuocco good luck \n",
              "1599631          1          103 Followers!! \n",
              "1599632          1            your right... \n",
              "1599659          1             rain is good \n",
              "1599677          1              goodmorning \n",
              "1599678          1      @jasontancy thanks! \n",
              "1599680          1   @DowneyChick me either \n",
              "1599700          1         Treating my body \n",
              "1599706          1   @tweetbomb Yes please  \n",
              "1599707          1     Day off...good stuff \n",
              "1599709          1           B: Going home. \n",
              "1599717          1  @tiffany_boze  love you!\n",
              "1599767          1   Good morning everyone. \n",
              "1599771          1      @MeguMiya Thank you \n",
              "1599772          1            @ijustine hey \n",
              "1599776          1    so fun catching up... \n",
              "1599810          1           to be with you \n",
              "1599863          1  Going to tampa saturday \n",
              "1599906          1      @gabespears morning \n",
              "1599909          1   is excited for the day \n",
              "1599913          1         @PJA4ever Back.. \n",
              "1599929          1  @AndrewDearling *yawns* \n",
              "1599944          1    oh yes, and btw, 8.00 \n",
              "1599962          1  @OHTristaN it's sunoudy \n",
              "1599966          1         checking my mail \n",
              "1599978          1            In the garden \n",
              "1599989          1     WOOOOO! Xbox is back \n",
              "1599992          1         @SCOOBY_GRITBOYS \n",
              "\n",
              "[111025 rows x 2 columns]"
            ]
          },
          "execution_count": 13,
          "metadata": {},
          "output_type": "execute_result"
        }
      ]
    },
    {
      "cell_type": "code",
      "metadata": {
        "id": "RfFm8JUeMWNr"
      },
      "source": [
        "data['Cleaned'] = data['Text'].apply(clean_text)"
      ],
      "execution_count": null,
      "outputs": []
    },
    {
      "cell_type": "code",
      "metadata": {
        "id": "iiagXgIhMWNr",
        "outputId": "28d159a0-0ede-42cc-cb67-0cf94a863401"
      },
      "source": [
        "data.head()"
      ],
      "execution_count": null,
      "outputs": [
        {
          "data": {
            "text/html": [
              "<div>\n",
              "<style scoped>\n",
              "    .dataframe tbody tr th:only-of-type {\n",
              "        vertical-align: middle;\n",
              "    }\n",
              "\n",
              "    .dataframe tbody tr th {\n",
              "        vertical-align: top;\n",
              "    }\n",
              "\n",
              "    .dataframe thead th {\n",
              "        text-align: right;\n",
              "    }\n",
              "</style>\n",
              "<table border=\"1\" class=\"dataframe\">\n",
              "  <thead>\n",
              "    <tr style=\"text-align: right;\">\n",
              "      <th></th>\n",
              "      <th>Sentiment</th>\n",
              "      <th>Text</th>\n",
              "      <th>Cleaned</th>\n",
              "    </tr>\n",
              "  </thead>\n",
              "  <tbody>\n",
              "    <tr>\n",
              "      <th>5</th>\n",
              "      <td>0</td>\n",
              "      <td>Need a hug</td>\n",
              "      <td>need a hug</td>\n",
              "    </tr>\n",
              "    <tr>\n",
              "      <th>16</th>\n",
              "      <td>0</td>\n",
              "      <td>about to file taxes</td>\n",
              "      <td>about to file taxes</td>\n",
              "    </tr>\n",
              "    <tr>\n",
              "      <th>26</th>\n",
              "      <td>0</td>\n",
              "      <td>im sad now  Miss.Lilly</td>\n",
              "      <td>im sad now  misslilly</td>\n",
              "    </tr>\n",
              "    <tr>\n",
              "      <th>53</th>\n",
              "      <td>0</td>\n",
              "      <td>I need a hug</td>\n",
              "      <td>i need a hug</td>\n",
              "    </tr>\n",
              "    <tr>\n",
              "      <th>76</th>\n",
              "      <td>0</td>\n",
              "      <td>No new csi tonight.  FML</td>\n",
              "      <td>no new csi tonight  fml</td>\n",
              "    </tr>\n",
              "  </tbody>\n",
              "</table>\n",
              "</div>"
            ],
            "text/plain": [
              "    Sentiment                      Text                  Cleaned\n",
              "5           0               Need a hug               need a hug \n",
              "16          0      about to file taxes      about to file taxes \n",
              "26          0    im sad now  Miss.Lilly    im sad now  misslilly\n",
              "53          0             I need a hug             i need a hug \n",
              "76          0  No new csi tonight.  FML  no new csi tonight  fml"
            ]
          },
          "execution_count": 15,
          "metadata": {},
          "output_type": "execute_result"
        }
      ]
    },
    {
      "cell_type": "code",
      "metadata": {
        "id": "UsSXTtHFMWNs",
        "outputId": "985d2965-076f-4aa5-ee1d-3c1ffdd916fa"
      },
      "source": [
        "data = data.reset_index()\n",
        "data.head()"
      ],
      "execution_count": null,
      "outputs": [
        {
          "data": {
            "text/html": [
              "<div>\n",
              "<style scoped>\n",
              "    .dataframe tbody tr th:only-of-type {\n",
              "        vertical-align: middle;\n",
              "    }\n",
              "\n",
              "    .dataframe tbody tr th {\n",
              "        vertical-align: top;\n",
              "    }\n",
              "\n",
              "    .dataframe thead th {\n",
              "        text-align: right;\n",
              "    }\n",
              "</style>\n",
              "<table border=\"1\" class=\"dataframe\">\n",
              "  <thead>\n",
              "    <tr style=\"text-align: right;\">\n",
              "      <th></th>\n",
              "      <th>index</th>\n",
              "      <th>Sentiment</th>\n",
              "      <th>Text</th>\n",
              "      <th>Cleaned</th>\n",
              "    </tr>\n",
              "  </thead>\n",
              "  <tbody>\n",
              "    <tr>\n",
              "      <th>0</th>\n",
              "      <td>5</td>\n",
              "      <td>0</td>\n",
              "      <td>Need a hug</td>\n",
              "      <td>need a hug</td>\n",
              "    </tr>\n",
              "    <tr>\n",
              "      <th>1</th>\n",
              "      <td>16</td>\n",
              "      <td>0</td>\n",
              "      <td>about to file taxes</td>\n",
              "      <td>about to file taxes</td>\n",
              "    </tr>\n",
              "    <tr>\n",
              "      <th>2</th>\n",
              "      <td>26</td>\n",
              "      <td>0</td>\n",
              "      <td>im sad now  Miss.Lilly</td>\n",
              "      <td>im sad now  misslilly</td>\n",
              "    </tr>\n",
              "    <tr>\n",
              "      <th>3</th>\n",
              "      <td>53</td>\n",
              "      <td>0</td>\n",
              "      <td>I need a hug</td>\n",
              "      <td>i need a hug</td>\n",
              "    </tr>\n",
              "    <tr>\n",
              "      <th>4</th>\n",
              "      <td>76</td>\n",
              "      <td>0</td>\n",
              "      <td>No new csi tonight.  FML</td>\n",
              "      <td>no new csi tonight  fml</td>\n",
              "    </tr>\n",
              "  </tbody>\n",
              "</table>\n",
              "</div>"
            ],
            "text/plain": [
              "   index  Sentiment                      Text                  Cleaned\n",
              "0      5          0               Need a hug               need a hug \n",
              "1     16          0      about to file taxes      about to file taxes \n",
              "2     26          0    im sad now  Miss.Lilly    im sad now  misslilly\n",
              "3     53          0             I need a hug             i need a hug \n",
              "4     76          0  No new csi tonight.  FML  no new csi tonight  fml"
            ]
          },
          "execution_count": 16,
          "metadata": {},
          "output_type": "execute_result"
        }
      ]
    },
    {
      "cell_type": "code",
      "metadata": {
        "id": "imiaLZzQMWNs",
        "outputId": "53cec41f-4c5f-4943-85f9-48781eb9dfa6"
      },
      "source": [
        "data = data.drop('index',axis=1)\n",
        "data.head()"
      ],
      "execution_count": null,
      "outputs": [
        {
          "data": {
            "text/html": [
              "<div>\n",
              "<style scoped>\n",
              "    .dataframe tbody tr th:only-of-type {\n",
              "        vertical-align: middle;\n",
              "    }\n",
              "\n",
              "    .dataframe tbody tr th {\n",
              "        vertical-align: top;\n",
              "    }\n",
              "\n",
              "    .dataframe thead th {\n",
              "        text-align: right;\n",
              "    }\n",
              "</style>\n",
              "<table border=\"1\" class=\"dataframe\">\n",
              "  <thead>\n",
              "    <tr style=\"text-align: right;\">\n",
              "      <th></th>\n",
              "      <th>Sentiment</th>\n",
              "      <th>Text</th>\n",
              "      <th>Cleaned</th>\n",
              "    </tr>\n",
              "  </thead>\n",
              "  <tbody>\n",
              "    <tr>\n",
              "      <th>0</th>\n",
              "      <td>0</td>\n",
              "      <td>Need a hug</td>\n",
              "      <td>need a hug</td>\n",
              "    </tr>\n",
              "    <tr>\n",
              "      <th>1</th>\n",
              "      <td>0</td>\n",
              "      <td>about to file taxes</td>\n",
              "      <td>about to file taxes</td>\n",
              "    </tr>\n",
              "    <tr>\n",
              "      <th>2</th>\n",
              "      <td>0</td>\n",
              "      <td>im sad now  Miss.Lilly</td>\n",
              "      <td>im sad now  misslilly</td>\n",
              "    </tr>\n",
              "    <tr>\n",
              "      <th>3</th>\n",
              "      <td>0</td>\n",
              "      <td>I need a hug</td>\n",
              "      <td>i need a hug</td>\n",
              "    </tr>\n",
              "    <tr>\n",
              "      <th>4</th>\n",
              "      <td>0</td>\n",
              "      <td>No new csi tonight.  FML</td>\n",
              "      <td>no new csi tonight  fml</td>\n",
              "    </tr>\n",
              "  </tbody>\n",
              "</table>\n",
              "</div>"
            ],
            "text/plain": [
              "   Sentiment                      Text                  Cleaned\n",
              "0          0               Need a hug               need a hug \n",
              "1          0      about to file taxes      about to file taxes \n",
              "2          0    im sad now  Miss.Lilly    im sad now  misslilly\n",
              "3          0             I need a hug             i need a hug \n",
              "4          0  No new csi tonight.  FML  no new csi tonight  fml"
            ]
          },
          "execution_count": 17,
          "metadata": {},
          "output_type": "execute_result"
        }
      ]
    },
    {
      "cell_type": "code",
      "metadata": {
        "id": "4XbNRBVQMWNs",
        "outputId": "f1261bfb-7d6b-459a-9030-5b5c0a560914"
      },
      "source": [
        "from sklearn.feature_extraction.text import TfidfVectorizer\n",
        "\n",
        "vectorizer = TfidfVectorizer() #Create an instance, as usual\n",
        "\n",
        "vectorizer.fit(data['Cleaned']) #Like any sklearn model, it needs to be fit."
      ],
      "execution_count": null,
      "outputs": [
        {
          "data": {
            "text/plain": [
              "TfidfVectorizer(analyzer='word', binary=False, decode_error='strict',\n",
              "                dtype=<class 'numpy.float64'>, encoding='utf-8',\n",
              "                input='content', lowercase=True, max_df=1.0, max_features=None,\n",
              "                min_df=1, ngram_range=(1, 1), norm='l2', preprocessor=None,\n",
              "                smooth_idf=True, stop_words=None, strip_accents=None,\n",
              "                sublinear_tf=False, token_pattern='(?u)\\\\b\\\\w\\\\w+\\\\b',\n",
              "                tokenizer=None, use_idf=True, vocabulary=None)"
            ]
          },
          "execution_count": 19,
          "metadata": {},
          "output_type": "execute_result"
        }
      ]
    },
    {
      "cell_type": "code",
      "metadata": {
        "id": "K6xBwOeWMWNt"
      },
      "source": [
        "transformed = vectorizer.transform(data['Cleaned']) \n",
        "#Then, we can use the vectorizer to 'transform', or vectorize the cleaned data.\n",
        "#We can store the data into variable called 'transformed'."
      ],
      "execution_count": null,
      "outputs": []
    },
    {
      "cell_type": "code",
      "metadata": {
        "id": "AsAaMwF7MWNt",
        "outputId": "e4330642-d4ca-4752-de63-3871e2b54221"
      },
      "source": [
        "transformed.shape"
      ],
      "execution_count": null,
      "outputs": [
        {
          "data": {
            "text/plain": [
              "(111025, 47678)"
            ]
          },
          "execution_count": 21,
          "metadata": {},
          "output_type": "execute_result"
        }
      ]
    },
    {
      "cell_type": "code",
      "metadata": {
        "id": "RYAvZniFMWNt"
      },
      "source": [
        "X = transformed #These are the 'features', the X, that we will be plugging into the model...\n",
        "y = data['Sentiment'] #...and we want to get a sentiment 0 and 1.\n"
      ],
      "execution_count": null,
      "outputs": []
    },
    {
      "cell_type": "code",
      "metadata": {
        "id": "j7tSbOxXMWNu"
      },
      "source": [
        "from sklearn.model_selection import train_test_split\n",
        "X_train,X_test,y_train,y_test = train_test_split(X,y,test_size=0.2,stratify=y) "
      ],
      "execution_count": null,
      "outputs": []
    },
    {
      "cell_type": "code",
      "metadata": {
        "id": "qVRut0WKMWNu",
        "outputId": "08f45b5d-6fb6-4064-e5cb-bf9595d34501"
      },
      "source": [
        "y_train.value_counts()"
      ],
      "execution_count": null,
      "outputs": [
        {
          "data": {
            "text/plain": [
              "0    47023\n",
              "1    41797\n",
              "Name: Sentiment, dtype: int64"
            ]
          },
          "execution_count": 24,
          "metadata": {},
          "output_type": "execute_result"
        }
      ]
    },
    {
      "cell_type": "code",
      "metadata": {
        "id": "svFGY1HeMWNu",
        "outputId": "22adfeda-593d-4d9a-c601-cc9767c02d3d"
      },
      "source": [
        "y_test.value_counts()"
      ],
      "execution_count": null,
      "outputs": [
        {
          "data": {
            "text/plain": [
              "0    11756\n",
              "1    10449\n",
              "Name: Sentiment, dtype: int64"
            ]
          },
          "execution_count": 25,
          "metadata": {},
          "output_type": "execute_result"
        }
      ]
    },
    {
      "cell_type": "markdown",
      "metadata": {
        "id": "716TQ6ocMWNv"
      },
      "source": [
        "# Naive-Bayes"
      ]
    },
    {
      "cell_type": "code",
      "metadata": {
        "id": "ETTQAWF6MWNw",
        "outputId": "fbd91adf-1d84-4c02-ec63-73bd8c72f124"
      },
      "source": [
        "from sklearn.naive_bayes import MultinomialNB\n",
        "nb = MultinomialNB()\n",
        "\n",
        "start = time.time()\n",
        "nb.fit(X_train,y_train)\n",
        "end = time.time()\n",
        "\n",
        "print('Elapsed time: ',end - start)\n",
        "\n",
        "y_pred_nb = nb.predict(X_test).ravel()"
      ],
      "execution_count": null,
      "outputs": [
        {
          "name": "stdout",
          "output_type": "stream",
          "text": [
            "Elapsed time:  0.10892081260681152\n"
          ]
        }
      ]
    },
    {
      "cell_type": "code",
      "metadata": {
        "id": "rhAHai_YMWNw"
      },
      "source": [
        "from sklearn.metrics import accuracy_score"
      ],
      "execution_count": null,
      "outputs": []
    },
    {
      "cell_type": "code",
      "metadata": {
        "id": "XDMszTZUMWNx",
        "outputId": "c76d9897-83ce-45d7-bade-c5785a601da0"
      },
      "source": [
        "accuracy_score(nb.predict(X_test),y_test)"
      ],
      "execution_count": null,
      "outputs": [
        {
          "data": {
            "text/plain": [
              "0.8267507318171583"
            ]
          },
          "execution_count": 28,
          "metadata": {},
          "output_type": "execute_result"
        }
      ]
    },
    {
      "cell_type": "code",
      "metadata": {
        "id": "-QI0TtHaMWNy"
      },
      "source": [
        "from sklearn.metrics import confusion_matrix"
      ],
      "execution_count": null,
      "outputs": []
    },
    {
      "cell_type": "code",
      "metadata": {
        "id": "bbr_lhWmMWNy",
        "outputId": "eb891013-bcc0-43b1-c84b-61fa70df62f6"
      },
      "source": [
        "nb_cf_matrix = confusion_matrix(nb.predict(X_test), y_test)\n",
        "nb_cf_matrix"
      ],
      "execution_count": null,
      "outputs": [
        {
          "data": {
            "text/plain": [
              "array([[10553,  2644],\n",
              "       [ 1203,  7805]], dtype=int64)"
            ]
          },
          "execution_count": 30,
          "metadata": {},
          "output_type": "execute_result"
        }
      ]
    },
    {
      "cell_type": "code",
      "metadata": {
        "id": "1_BCx5mNMWNz"
      },
      "source": [
        "from sklearn.metrics import classification_report"
      ],
      "execution_count": null,
      "outputs": []
    },
    {
      "cell_type": "code",
      "metadata": {
        "id": "WaiyeJ5kMWNz",
        "outputId": "8b1e1974-caba-4bb8-81ee-7ae9f4adc5a8"
      },
      "source": [
        "print(classification_report(nb.predict(X_test), y_test))"
      ],
      "execution_count": null,
      "outputs": [
        {
          "name": "stdout",
          "output_type": "stream",
          "text": [
            "              precision    recall  f1-score   support\n",
            "\n",
            "           0       0.90      0.80      0.85     13197\n",
            "           1       0.75      0.87      0.80      9008\n",
            "\n",
            "    accuracy                           0.83     22205\n",
            "   macro avg       0.82      0.83      0.82     22205\n",
            "weighted avg       0.84      0.83      0.83     22205\n",
            "\n"
          ]
        }
      ]
    },
    {
      "cell_type": "code",
      "metadata": {
        "id": "pT9R7FMOMWNz",
        "outputId": "963cc6c9-e455-48d7-dc4c-06ccfbde4032"
      },
      "source": [
        "import seaborn as sns\n",
        "nb_heatmap = sns.heatmap(nb_cf_matrix/np.sum(nb_cf_matrix), annot=True, fmt='.2%', cmap='Oranges')"
      ],
      "execution_count": null,
      "outputs": [
        {
          "data": {
            "image/png": "[encoded data removed]",
            "text/plain": [
              "<Figure size 432x288 with 2 Axes>"
            ]
          },
          "metadata": {
            "needs_background": "light"
          },
          "output_type": "display_data"
        }
      ]
    },
    {
      "cell_type": "markdown",
      "metadata": {
        "id": "L01jhIKIMWN0"
      },
      "source": [
        "# SVM"
      ]
    },
    {
      "cell_type": "code",
      "metadata": {
        "id": "8LwlJxFrMWN0",
        "outputId": "00a08aee-0e95-4e7e-de59-6a939fee6d33"
      },
      "source": [
        "from sklearn import svm\n",
        "clf = svm.SVC(kernel='linear') # Linear Kernel\n",
        "\n",
        "start = time.time()\n",
        "clf.fit(X_train, y_train)\n",
        "end = time.time()\n",
        "\n",
        "print('Elapsed time: ',end - start)\n",
        "\n",
        "y_pred_svm = clf.predict(X_test).ravel()"
      ],
      "execution_count": null,
      "outputs": [
        {
          "name": "stdout",
          "output_type": "stream",
          "text": [
            "Elapsed time:  1431.300386428833\n"
          ]
        }
      ]
    },
    {
      "cell_type": "code",
      "metadata": {
        "id": "TIM7QcU2MWN0",
        "outputId": "e3ee3a2d-9a11-4ec3-f276-e97908cf8562"
      },
      "source": [
        "accuracy_score(clf.predict(X_test),y_test)"
      ],
      "execution_count": null,
      "outputs": [
        {
          "data": {
            "text/plain": [
              "0.8510695789236659"
            ]
          },
          "execution_count": 35,
          "metadata": {},
          "output_type": "execute_result"
        }
      ]
    },
    {
      "cell_type": "code",
      "metadata": {
        "id": "L1i0HygvMWN1",
        "outputId": "42aca597-5a66-4f90-c3dd-a6b19b718d3c"
      },
      "source": [
        "clf_cf_matrix = confusion_matrix(clf.predict(X_test), y_test)\n",
        "clf_cf_matrix"
      ],
      "execution_count": null,
      "outputs": [
        {
          "data": {
            "text/plain": [
              "array([[9768, 1319],\n",
              "       [1988, 9130]], dtype=int64)"
            ]
          },
          "execution_count": 36,
          "metadata": {},
          "output_type": "execute_result"
        }
      ]
    },
    {
      "cell_type": "code",
      "metadata": {
        "id": "raI8WpptMWN1",
        "outputId": "59f2f994-7512-4527-b87c-6c0b62d0dd60"
      },
      "source": [
        "print(classification_report(clf.predict(X_test), y_test))"
      ],
      "execution_count": null,
      "outputs": [
        {
          "name": "stdout",
          "output_type": "stream",
          "text": [
            "              precision    recall  f1-score   support\n",
            "\n",
            "           0       0.83      0.88      0.86     11087\n",
            "           1       0.87      0.82      0.85     11118\n",
            "\n",
            "    accuracy                           0.85     22205\n",
            "   macro avg       0.85      0.85      0.85     22205\n",
            "weighted avg       0.85      0.85      0.85     22205\n",
            "\n"
          ]
        }
      ]
    },
    {
      "cell_type": "code",
      "metadata": {
        "id": "uJzzJfESMWN1",
        "outputId": "7c81fe4b-d495-4c49-91c0-d395fabe5790"
      },
      "source": [
        "s = sns.heatmap(clf_cf_matrix/np.sum(clf_cf_matrix), annot=True, fmt='.2%', cmap='Greys')"
      ],
      "execution_count": null,
      "outputs": [
        {
          "data": {
            "image/png": "[encoded data removed]",
            "text/plain": [
              "<Figure size 432x288 with 2 Axes>"
            ]
          },
          "metadata": {
            "needs_background": "light"
          },
          "output_type": "display_data"
        }
      ]
    },
    {
      "cell_type": "markdown",
      "metadata": {
        "id": "0A1TjwlbMWN1"
      },
      "source": [
        "# Decision Tree"
      ]
    },
    {
      "cell_type": "code",
      "metadata": {
        "id": "sUYLVNXvMWN1",
        "outputId": "2ae250a7-87a6-4488-c1f1-6aabf6b3ea64"
      },
      "source": [
        "from sklearn.tree import DecisionTreeClassifier\n",
        "dec = DecisionTreeClassifier()\n",
        "\n",
        "start = time.time()\n",
        "dec.fit(X_train,y_train)\n",
        "end = time.time()\n",
        "\n",
        "print('Elapsed time: ',end - start)"
      ],
      "execution_count": null,
      "outputs": [
        {
          "name": "stdout",
          "output_type": "stream",
          "text": [
            "Elapsed time:  135.8686466217041\n"
          ]
        }
      ]
    },
    {
      "cell_type": "code",
      "metadata": {
        "id": "xH3WRTumMWN2",
        "outputId": "c8feeb53-a760-4319-cd54-866471af412c"
      },
      "source": [
        "from sklearn.metrics import accuracy_score\n",
        "accuracy_score(dec.predict(X_test),y_test)"
      ],
      "execution_count": null,
      "outputs": [
        {
          "data": {
            "text/plain": [
              "0.825039405539293"
            ]
          },
          "execution_count": 40,
          "metadata": {},
          "output_type": "execute_result"
        }
      ]
    },
    {
      "cell_type": "code",
      "metadata": {
        "id": "gjXvOGC9MWN2",
        "outputId": "94aeae95-51dc-42d0-8606-f4f3918bf090"
      },
      "source": [
        "from sklearn.metrics import confusion_matrix\n",
        "dec_cf_matrix = confusion_matrix(dec.predict(X_test), y_test)\n",
        "dec_cf_matrix"
      ],
      "execution_count": null,
      "outputs": [
        {
          "data": {
            "text/plain": [
              "array([[9598, 1727],\n",
              "       [2158, 8722]], dtype=int64)"
            ]
          },
          "execution_count": 41,
          "metadata": {},
          "output_type": "execute_result"
        }
      ]
    },
    {
      "cell_type": "code",
      "metadata": {
        "id": "j_mgk941MWN2",
        "outputId": "352772c3-09d1-4438-cadd-30e867f5c083"
      },
      "source": [
        "from sklearn.metrics import classification_report\n",
        "print(classification_report(dec.predict(X_test), y_test))"
      ],
      "execution_count": null,
      "outputs": [
        {
          "name": "stdout",
          "output_type": "stream",
          "text": [
            "              precision    recall  f1-score   support\n",
            "\n",
            "           0       0.82      0.85      0.83     11325\n",
            "           1       0.83      0.80      0.82     10880\n",
            "\n",
            "    accuracy                           0.83     22205\n",
            "   macro avg       0.83      0.82      0.82     22205\n",
            "weighted avg       0.83      0.83      0.82     22205\n",
            "\n"
          ]
        }
      ]
    },
    {
      "cell_type": "code",
      "metadata": {
        "id": "ymcefioWMWN2",
        "outputId": "6ac66708-e9d3-4329-a0bf-eba53848e215"
      },
      "source": [
        "dtree = sns.heatmap(dec_cf_matrix/np.sum(dec_cf_matrix), annot=True, fmt='.2%', cmap='Blues')"
      ],
      "execution_count": null,
      "outputs": [
        {
          "data": {
            "image/png": "[encoded data removed]",
            "text/plain": [
              "<Figure size 432x288 with 2 Axes>"
            ]
          },
          "metadata": {
            "needs_background": "light"
          },
          "output_type": "display_data"
        }
      ]
    },
    {
      "cell_type": "markdown",
      "metadata": {
        "id": "VQjJNbEqMWN2"
      },
      "source": [
        "# Logistic Regression\n"
      ]
    },
    {
      "cell_type": "code",
      "metadata": {
        "id": "B4BxWWyUMWN3",
        "outputId": "ced1b658-7fe3-47ec-ac8b-93b9081f68a1"
      },
      "source": [
        "from sklearn.linear_model import LogisticRegression #import model\n",
        "log = LogisticRegression() #Create instance\n",
        "\n",
        "start = time.time()\n",
        "log.fit(X_train,y_train)\n",
        "end = time.time()\n",
        "\n",
        "print('Elapsed time: ',end - start)\n",
        "\n",
        "y_pred_log = log.predict(X_test).ravel()"
      ],
      "execution_count": null,
      "outputs": [
        {
          "name": "stderr",
          "output_type": "stream",
          "text": [
            "C:\\ProgramData\\Anaconda3\\lib\\site-packages\\sklearn\\linear_model\\logistic.py:432: FutureWarning: Default solver will be changed to 'lbfgs' in 0.22. Specify a solver to silence this warning.\n",
            "  FutureWarning)\n"
          ]
        },
        {
          "name": "stdout",
          "output_type": "stream",
          "text": [
            "Elapsed time:  0.7746419906616211\n"
          ]
        }
      ]
    },
    {
      "cell_type": "code",
      "metadata": {
        "id": "Nqz1SetkMWN4",
        "outputId": "65bc61fa-77db-4723-bcc3-ca4a9d68a98c"
      },
      "source": [
        "accuracy_score(log.predict(X_test),y_test)"
      ],
      "execution_count": null,
      "outputs": [
        {
          "data": {
            "text/plain": [
              "0.8502589506867823"
            ]
          },
          "execution_count": 45,
          "metadata": {},
          "output_type": "execute_result"
        }
      ]
    },
    {
      "cell_type": "code",
      "metadata": {
        "id": "mdW_0PQCMWN4",
        "outputId": "15a7a3aa-3f5b-415f-b8ce-d77b3ca0d798"
      },
      "source": [
        "log_cf_matrix = confusion_matrix(log.predict(X_test), y_test)\n",
        "log_cf_matrix"
      ],
      "execution_count": null,
      "outputs": [
        {
          "data": {
            "text/plain": [
              "array([[9795, 1364],\n",
              "       [1961, 9085]], dtype=int64)"
            ]
          },
          "execution_count": 46,
          "metadata": {},
          "output_type": "execute_result"
        }
      ]
    },
    {
      "cell_type": "code",
      "metadata": {
        "id": "_WhAq0XDMWN4",
        "outputId": "c97c0642-80ed-482c-9c4e-6b3e69d14408"
      },
      "source": [
        "lr = sns.heatmap(log_cf_matrix/np.sum(log_cf_matrix), annot=True, fmt='.2%', cmap='Purples')"
      ],
      "execution_count": null,
      "outputs": [
        {
          "data": {
            "image/png": "[encoded data removed]",
            "text/plain": [
              "<Figure size 432x288 with 2 Axes>"
            ]
          },
          "metadata": {
            "needs_background": "light"
          },
          "output_type": "display_data"
        }
      ]
    },
    {
      "cell_type": "code",
      "metadata": {
        "id": "8d0j5F3uMWN5",
        "outputId": "d8004b05-3565-4d7d-9a48-af9db52e779b"
      },
      "source": [
        "print(classification_report(log.predict(X_test), y_test))"
      ],
      "execution_count": null,
      "outputs": [
        {
          "name": "stdout",
          "output_type": "stream",
          "text": [
            "              precision    recall  f1-score   support\n",
            "\n",
            "           0       0.83      0.88      0.85     11159\n",
            "           1       0.87      0.82      0.85     11046\n",
            "\n",
            "    accuracy                           0.85     22205\n",
            "   macro avg       0.85      0.85      0.85     22205\n",
            "weighted avg       0.85      0.85      0.85     22205\n",
            "\n"
          ]
        }
      ]
    },
    {
      "cell_type": "markdown",
      "metadata": {
        "id": "BD_GJ4RMMWN5"
      },
      "source": [
        "# Random Forest"
      ]
    },
    {
      "cell_type": "code",
      "metadata": {
        "id": "vM0xFU8-MWN5",
        "outputId": "8c371602-1b07-4c23-be3c-0f74459f5d07"
      },
      "source": [
        "from sklearn.ensemble import RandomForestClassifier\n",
        "rf = RandomForestClassifier()\n",
        "start = time.time()\n",
        "rf.fit(X_train,y_train)\n",
        "end = time.time()\n",
        "\n",
        "print('Elapsed time: ',end - start)\n",
        "\n",
        "y_pred_rf = rf.predict(X_test).ravel()"
      ],
      "execution_count": null,
      "outputs": [
        {
          "name": "stderr",
          "output_type": "stream",
          "text": [
            "C:\\ProgramData\\Anaconda3\\lib\\site-packages\\sklearn\\ensemble\\forest.py:245: FutureWarning: The default value of n_estimators will change from 10 in version 0.20 to 100 in 0.22.\n",
            "  \"10 in version 0.20 to 100 in 0.22.\", FutureWarning)\n"
          ]
        },
        {
          "name": "stdout",
          "output_type": "stream",
          "text": [
            "Elapsed time:  105.85047006607056\n"
          ]
        }
      ]
    },
    {
      "cell_type": "code",
      "metadata": {
        "id": "Jg1THuUNMWN5",
        "outputId": "78017a20-6d24-441b-dfb9-661ee395b231"
      },
      "source": [
        "accuracy_score(rf.predict(X_test),y_test)"
      ],
      "execution_count": null,
      "outputs": [
        {
          "data": {
            "text/plain": [
              "0.8343165953614051"
            ]
          },
          "execution_count": 50,
          "metadata": {},
          "output_type": "execute_result"
        }
      ]
    },
    {
      "cell_type": "code",
      "metadata": {
        "id": "AT6LdaoVMWN5",
        "outputId": "1cc6b545-e422-4ce5-f285-0bf67f4728e3"
      },
      "source": [
        "rf_cf_matrix = confusion_matrix(rf.predict(X_test), y_test)\n",
        "rf_cf_matrix"
      ],
      "execution_count": null,
      "outputs": [
        {
          "data": {
            "text/plain": [
              "array([[9757, 1680],\n",
              "       [1999, 8769]], dtype=int64)"
            ]
          },
          "execution_count": 51,
          "metadata": {},
          "output_type": "execute_result"
        }
      ]
    },
    {
      "cell_type": "code",
      "metadata": {
        "id": "OB6FnJOMMWN6",
        "outputId": "2c9f697c-26c8-4a16-bf08-986a7d265f88"
      },
      "source": [
        "print(classification_report(rf.predict(X_test), y_test))"
      ],
      "execution_count": null,
      "outputs": [
        {
          "name": "stdout",
          "output_type": "stream",
          "text": [
            "              precision    recall  f1-score   support\n",
            "\n",
            "           0       0.83      0.85      0.84     11437\n",
            "           1       0.84      0.81      0.83     10768\n",
            "\n",
            "    accuracy                           0.83     22205\n",
            "   macro avg       0.83      0.83      0.83     22205\n",
            "weighted avg       0.83      0.83      0.83     22205\n",
            "\n"
          ]
        }
      ]
    },
    {
      "cell_type": "code",
      "metadata": {
        "id": "kOan_S41MWN6",
        "outputId": "2781f0d6-9749-4444-e4a2-dd440561b290"
      },
      "source": [
        "forest = sns.heatmap(rf_cf_matrix/np.sum(rf_cf_matrix), annot=True, fmt='.2%', cmap='Greens')"
      ],
      "execution_count": null,
      "outputs": [
        {
          "data": {
            "image/png": "[encoded data removed]",
            "text/plain": [
              "<Figure size 432x288 with 2 Axes>"
            ]
          },
          "metadata": {
            "needs_background": "light"
          },
          "output_type": "display_data"
        }
      ]
    },
    {
      "cell_type": "code",
      "metadata": {
        "id": "1xqKdVT2MWN6"
      },
      "source": [
        ""
      ],
      "execution_count": null,
      "outputs": []
    }
  ]
}